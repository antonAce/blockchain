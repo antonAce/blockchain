{
 "cells": [
  {
   "cell_type": "markdown",
   "metadata": {},
   "source": [
    "# Hashing algorithms\n",
    "\n",
    "Basic hash algorithms overview in vanilla Python"
   ]
  },
  {
   "cell_type": "markdown",
   "metadata": {},
   "source": [
    "### Introduction\n",
    "\n",
    "**Universal hashing**\n",
    "\n",
    "Let $ \\mathcal{U} $ be a set of keys, and let $ \\mathcal{H} $ be a finite collection of hash functions, each mapping $ \\mathcal{U} $ to $ \\{ 0, 1, \\cdots, m - 1 \\} $. A set $ \\mathcal{H} $ is **universal** if for all $ x, y \\in \\mathcal{U} $, where $ x \\neq y $, the expression $ | \\{ h \\in \\mathcal{H}: h(x) = h(y) \\} | = \\frac{\\mathcal{H}}{m} $ will be relevant. So, the chance of a collision between $ x $ and $ y $ is $ \\frac{1}{m} $ for a random chosen $ h $ from $ \\mathcal{H} $.\n",
    "\n",
    "**One-way function**\n",
    "\n",
    "A one-way function is a function that is easy to compute on every input, but hard to invert given **the image of a random input**. Here, \"easy\" and \"hard\" are to be understood in the sense of computational complexity theory, specifically the theory of polynomial time problems."
   ]
  },
  {
   "cell_type": "markdown",
   "metadata": {},
   "source": [
    "### Function collision\n",
    "\n",
    "**Modulo hash function**\n",
    "\n",
    "The ideal hash function is expected to create one-to-one correspondence for the elements of the input set to the elements of the output set. The **collision** of the hash function is some elements from input set, that map to the same element from th output: $ x, y \\in \\mathcal{U}, x \\neq y \\implies \\{ h \\in \\mathcal{H}: h(x) = h(y) \\} $.\n",
    "\n",
    "**Example**\n",
    "\n",
    "\n",
    "**Given:**\n",
    "\n",
    "A simple modulo hash function $ h(x) = x \\pmod{p} $, where $ p $ is a word base in bits, for instance, **INT_BASE** = 32 bits. The cardinal value of the input set is $ n $: $n = card(\\Omega)$"
   ]
  },
  {
   "cell_type": "code",
   "execution_count": 1,
   "metadata": {},
   "outputs": [],
   "source": [
    "WORD_BASE = 32"
   ]
  },
  {
   "cell_type": "markdown",
   "metadata": {},
   "source": [
    "**Find:**\n",
    "- 1) The probability of the function collision;\n",
    "- 2) Which $ n $ gives the probability of 100%;\n",
    "\n",
    "**Solution:**\n",
    "\n",
    "1) The output values range of the function, obviously, is $ [0, p-1] $, which means that all possible elements from output set are mapped to the remainders of their division by $ p $. The task now can be interpreted in the following: find the probability of collision of two random numbers from the subset of $ [0, p-1] $. The total amount of the combinations equals $ p^{n} $ and the amount of sets without collision equals $ \\frac{p!}{(p-n)!} $. So the probability of the appearance of not collided pairs equals $ \\frac{1}{p^{n}} \\cdot \\frac{p!}{(p-n)!} $. Obviously, $P_{not collided} + P_{collided} = 1$, which means: $P_{collided} = 1 - \\frac{p!}{p^{n} \\cdot (p-n)!} $\n",
    "\n",
    "2) According to the **Dirichlet's drawer principle**: a function $ f: A \\to B $ maps exact value from the set at least $ n + 1 $ times, if sets $ A $ and $ B $ are finite and $ |A| > n \\cdot |B| $ and $ n \\in \\mathbb{N} $."
   ]
  },
  {
   "cell_type": "code",
   "execution_count": 2,
   "metadata": {},
   "outputs": [],
   "source": [
    "mod_hash = lambda message: message % WORD_BASE"
   ]
  },
  {
   "cell_type": "markdown",
   "metadata": {},
   "source": [
    "Test cases"
   ]
  },
  {
   "cell_type": "code",
   "execution_count": 3,
   "metadata": {},
   "outputs": [],
   "source": [
    "assert mod_hash(0) == 0\n",
    "assert mod_hash(68) == 4\n",
    "assert mod_hash(111) == 15"
   ]
  }
 ],
 "metadata": {
  "kernelspec": {
   "display_name": "Python 3",
   "language": "python",
   "name": "python3"
  },
  "language_info": {
   "codemirror_mode": {
    "name": "ipython",
    "version": 3
   },
   "file_extension": ".py",
   "mimetype": "text/x-python",
   "name": "python",
   "nbconvert_exporter": "python",
   "pygments_lexer": "ipython3",
   "version": "3.8.5"
  }
 },
 "nbformat": 4,
 "nbformat_minor": 4
}
